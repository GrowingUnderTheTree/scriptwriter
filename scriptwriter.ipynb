{
  "nbformat": 4,
  "nbformat_minor": 0,
  "metadata": {
    "colab": {
      "provenance": []
    },
    "kernelspec": {
      "name": "python3",
      "display_name": "Python 3"
    },
    "language_info": {
      "name": "python"
    }
  },
  "cells": [
    {
      "cell_type": "code",
      "execution_count": 37,
      "metadata": {
        "colab": {
          "base_uri": "https://localhost:8080/"
        },
        "id": "PHhyTp9y-zWf",
        "outputId": "a9d9f278-fbf8-4ccd-ca19-abae70352580"
      },
      "outputs": [
        {
          "output_type": "stream",
          "name": "stderr",
          "text": [
            "[nltk_data] Downloading package punkt_tab to /root/nltk_data...\n",
            "[nltk_data]   Package punkt_tab is already up-to-date!\n"
          ]
        }
      ],
      "source": [
        "# Import necessary libraries\n",
        "import nltk\n",
        "from nltk import bigrams, trigrams\n",
        "from collections import defaultdict\n",
        "nltk.download('punkt_tab')\n",
        "\n",
        "f=open('scripts.csv')\n",
        "raw=f.read()"
      ]
    },
    {
      "cell_type": "markdown",
      "source": [
        "Using NGram models"
      ],
      "metadata": {
        "id": "x1hl-rWLCuUB"
      }
    },
    {
      "cell_type": "code",
      "source": [
        "import nltk\n",
        "import random\n",
        "from nltk.util import ngrams\n",
        "from collections import defaultdict, Counter"
      ],
      "metadata": {
        "id": "HpfRPMLHCwVo"
      },
      "execution_count": 38,
      "outputs": []
    },
    {
      "cell_type": "code",
      "source": [
        "tokens = nltk.word_tokenize(raw)\n",
        "trigrams = list(ngrams(tokens, 3))"
      ],
      "metadata": {
        "id": "pGbZCIQOCxE-"
      },
      "execution_count": 39,
      "outputs": []
    },
    {
      "cell_type": "code",
      "source": [
        "trigram_model = defaultdict(list)\n",
        "for w1, w2, w3 in trigrams:\n",
        "    trigram_model[(w1, w2)].append(w3)"
      ],
      "metadata": {
        "id": "tUxkC8slC4Oh"
      },
      "execution_count": 40,
      "outputs": []
    },
    {
      "cell_type": "code",
      "source": [
        "trigram_probabilities = {key: Counter(value) for key, value in trigram_model.items()}"
      ],
      "metadata": {
        "id": "wsI7e4esC8Fx"
      },
      "execution_count": 41,
      "outputs": []
    },
    {
      "cell_type": "code",
      "source": [
        "def generate_text(seed, num_words=5000):\n",
        "    w1, w2 = seed.split()\n",
        "    generated_text = [w1, w2]\n",
        "\n",
        "    for _ in range(num_words):\n",
        "        next_word_options = trigram_probabilities.get((w1, w2), None)\n",
        "        if not next_word_options:\n",
        "            break  # Stop if no predictions available\n",
        "        w3 = random.choices(list(next_word_options.keys()), weights=next_word_options.values())[0]\n",
        "        generated_text.append(w3)\n",
        "        w1, w2 = w2, w3  # Move to next trigram context\n",
        "\n",
        "    return ' '.join(generated_text)\n"
      ],
      "metadata": {
        "id": "h-MDlyvFC-UV"
      },
      "execution_count": 42,
      "outputs": []
    },
    {
      "cell_type": "code",
      "source": [
        "print(generate_text(\"John Wick\", 60))"
      ],
      "metadata": {
        "colab": {
          "base_uri": "https://localhost:8080/"
        },
        "id": "_m9JSPmhDBhp",
        "outputId": "be2e0174-adcd-40e4-dcef-8a6c4712b601"
      },
      "execution_count": 69,
      "outputs": [
        {
          "output_type": "stream",
          "name": "stdout",
          "text": [
            "John Wick in the the CARGO NET . WEINER ( rising maniacally ) Gravity ! LIZ But what for ? Who are you still mad at you ! You 're safe . There 's a hard right -- and ALICIA HUNT -- and reaches into the wall ! Lucy dodges through the pages of notes , all night , is n't stupid\n"
          ]
        }
      ]
    },
    {
      "cell_type": "code",
      "source": [],
      "metadata": {
        "id": "K-Cf8mxnDEbz"
      },
      "execution_count": null,
      "outputs": []
    }
  ]
}